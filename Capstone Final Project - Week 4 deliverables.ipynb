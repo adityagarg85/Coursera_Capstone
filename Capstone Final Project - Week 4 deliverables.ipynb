{
 "cells": [
  {
   "cell_type": "markdown",
   "metadata": {},
   "source": [
    "### Introduction & Business Problem :"
   ]
  },
  {
   "cell_type": "markdown",
   "metadata": {},
   "source": [
    "###  Problem Background:"
   ]
  },
  {
   "cell_type": "markdown",
   "metadata": {},
   "source": [
    "The City of Lodnon, is the one of the most populous ciies in Europe and has very diverse culture.  It provides lot of business oppourtunities and business friendly environment. London has a diverse range of people and cultures, and more than 300 languages are spoken in the region.Its estimated mid-2018 municipal population (corresponding to Greater London) was roughly 9 million, which made it the third-most populous city in Europe. London accounts for 13.4% of the U.K. population. Greater London Built-up Area is the fourth-most populous in Europe, after Istanbul, Moscow, and Paris, with 9,787,426 inhabitants at the 2011 census. The London metropolitan area is the third-most populous in Europe, after Istanbul and the Moscow Metropolitan Area, with 14,040,163 inhabitants in 2016\n",
    "\n",
    "This also means that the market is highly competitive. As it is such a mature city cost of doing business is also one of the highest proabaly only below New York. Thus any new Business would require careful nalysis to identify potetntial opportunities. It would help increase chance of succedd and reduce chance of failures. The developed nature of city also provides opportunity to source and anlyse diverse datasets."
   ]
  },
  {
   "cell_type": "markdown",
   "metadata": {},
   "source": [
    "###  Problem Description:"
   ]
  },
  {
   "cell_type": "markdown",
   "metadata": {},
   "source": [
    "\n",
    "London offers a great variety of cuisine as a result of its ethnically diverse population. Gastronomic centres include the Bangladeshi restaurants of Brick Lane and the Chinese restaurants of Chinatown.<Br> \n",
    "\n",
    "To succeed in such an environment it is imperative to carefully analyse the available information to analyse where the opportunities may be there. Various factors need to be studied inorder to decide on the Location such as : <Br>\n",
    "    1) Demographics [Population/Ehnicity - may give an indication of cuisine preferences\n",
    "    2) Existing restaurant data to gauge interest\n",
    "    3) Potential information in restaurant ratings to identify potential gaps\n",
    "    4) Where are existing restaurants located are there hotspots in the city which can be identified, Are there are other venues nearby which indicate hot spots.\n",
    "    \n",
    "The Client X need to choose the correct location to start their restaurant and potentially expand a later date."
   ]
  },
  {
   "cell_type": "markdown",
   "metadata": {},
   "source": [
    "### Target Audience:"
   ]
  },
  {
   "cell_type": "markdown",
   "metadata": {},
   "source": [
    "To recommend range of locations and potentially cuisine, X Company Ltd. The objective is to locate and recommend to client potential range of recommendations where they can potentially lauunch a restaurant businees.\n",
    "\n",
    "This would interest anyone who wants to start a food serving business in London."
   ]
  },
  {
   "cell_type": "markdown",
   "metadata": {},
   "source": [
    "###  Success Criteria:"
   ]
  },
  {
   "cell_type": "markdown",
   "metadata": {},
   "source": [
    "Range of recommendations and the rationale behind the recommendations."
   ]
  },
  {
   "cell_type": "markdown",
   "metadata": {},
   "source": [
    "### Data :"
   ]
  },
  {
   "cell_type": "markdown",
   "metadata": {},
   "source": [
    "***Data 1 : General Information from Wikipedia*** \n",
    "There are 32 local district authorities. Twelve are designated as Inner London and the Rest are Outer London.\n",
    "More information about these can be found from https://en.wikipedia.org/wiki/London_boroughs\n",
    "\n",
    "Post Coe information for London is available from https://en.wikipedia.org/wiki/London_postal_district."
   ]
  },
  {
   "cell_type": "markdown",
   "metadata": {},
   "source": [
    "***Data 2 :*** Data from Hygiene Ratind https://ratings.food.gov.uk/open-data/en-GB.\n",
    "\n",
    "The data provides a list of restaurants in London and their Hygine ratings. It would be useful in determining restaurant densities for various district authorities and hygiene standards expected from particular boroughs."
   ]
  },
  {
   "cell_type": "markdown",
   "metadata": {},
   "source": [
    "***Data 3 :*** \n",
    "Census data to determine the ethnic mix of the population\n",
    "It can be useful to cluster various boroughs together basis their population mix and then we can analyse the restaurant makeup across boroughs\n",
    "\n",
    "Ethnic Group projections are taken from the following link\n",
    "https://data.london.gov.uk/dataset/ethnic-group-population-projections"
   ]
  },
  {
   "cell_type": "markdown",
   "metadata": {},
   "source": [
    "***Data 4 :*** London city geographical coordinates data will be utilized as input for the Foursquare API, that will be leveraged to provision venues information for each neighborhood.We will use the Foursquare API to explore neighborhoods in New York City. The"
   ]
  }
 ],
 "metadata": {
  "kernelspec": {
   "display_name": "Python 3",
   "language": "python",
   "name": "python3"
  },
  "language_info": {
   "codemirror_mode": {
    "name": "ipython",
    "version": 3
   },
   "file_extension": ".py",
   "mimetype": "text/x-python",
   "name": "python",
   "nbconvert_exporter": "python",
   "pygments_lexer": "ipython3",
   "version": "3.7.6"
  }
 },
 "nbformat": 4,
 "nbformat_minor": 1
}
